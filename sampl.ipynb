{
  "nbformat": 4,
  "nbformat_minor": 0,
  "metadata": {
    "colab": {
      "provenance": [],
      "include_colab_link": true
    },
    "kernelspec": {
      "name": "python3",
      "display_name": "Python 3"
    },
    "language_info": {
      "name": "python"
    }
  },
  "cells": [
    {
      "cell_type": "markdown",
      "metadata": {
        "id": "view-in-github",
        "colab_type": "text"
      },
      "source": [
        "<a href=\"https://colab.research.google.com/github/kakarot5suyash/Python-Programs/blob/main/sampl.ipynb\" target=\"_parent\"><img src=\"https://colab.research.google.com/assets/colab-badge.svg\" alt=\"Open In Colab\"/></a>"
      ]
    },
    {
      "cell_type": "code",
      "execution_count": null,
      "metadata": {
        "colab": {
          "base_uri": "https://localhost:8080/"
        },
        "id": "VFRgaq_STTxq",
        "outputId": "2db33efd-fa26-4223-df00-7faee65cf82f"
      },
      "outputs": [
        {
          "output_type": "stream",
          "name": "stdout",
          "text": [
            "Ultra Instinct\n"
          ]
        }
      ],
      "source": [
        "print('Ultra Instinct')"
      ]
    },
    {
      "cell_type": "code",
      "source": [
        "print('Ultra Ego')"
      ],
      "metadata": {
        "id": "O9phY9PZXvN-",
        "outputId": "f604cca8-2cd2-4c39-d9c1-ba4a6df6f2bd",
        "colab": {
          "base_uri": "https://localhost:8080/"
        }
      },
      "execution_count": 1,
      "outputs": [
        {
          "output_type": "stream",
          "name": "stdout",
          "text": [
            "Ultra Ego\n"
          ]
        }
      ]
    }
  ]
}